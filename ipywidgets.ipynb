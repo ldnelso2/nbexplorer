{
 "cells": [
  {
   "cell_type": "code",
   "execution_count": 41,
   "metadata": {},
   "outputs": [
    {
     "name": "stdout",
     "output_type": "stream",
     "text": [
      "/home/ubuntu/.ipython\n"
     ]
    },
    {
     "name": "stderr",
     "output_type": "stream",
     "text": [
      "/home/ubuntu/anaconda3/envs/python3/lib/python3.6/site-packages/ipykernel/__main__.py:11: UserWarning: get_ipython_dir has moved to the IPython.paths module since IPython 4.0.\n"
     ]
    }
   ],
   "source": [
    "import pprint\n",
    "import pandas as pd\n",
    "import numpy as np\n",
    "import matplotlib\n",
    "import matplotlib.pyplot as plt\n",
    "from scipy.fftpack import fft\n",
    "from IPython.display import display\n",
    "from IPython.display import HTML\n",
    "\n",
    "from IPython.utils.path import get_ipython_dir\n",
    "print (get_ipython_dir())"
   ]
  },
  {
   "cell_type": "markdown",
   "metadata": {},
   "source": [
    "from __future__ import print_function\n",
    "from ipywidgets import interact, interactive, fixed, interact_manual\n",
    "import ipywidgets as widgets"
   ]
  },
  {
   "cell_type": "code",
   "execution_count": 42,
   "metadata": {},
   "outputs": [],
   "source": [
    "# Try simple widget functionality\n",
    "def f(minimum):\n",
    "    return minimum\n",
    "\n",
    "def g(maximum): \n",
    "    return maximum\n",
    "\n",
    "# Build a simple function to print out type and size of new elements\n",
    "def whatis(thing, name=\"this\"):\n",
    "    print(name + \" is a \" + str(type(thing)) + \" with a shape: \" + str(thing.shape))\n",
    "    "
   ]
  },
  {
   "cell_type": "code",
   "execution_count": null,
   "metadata": {},
   "outputs": [],
   "source": []
  },
  {
   "cell_type": "code",
   "execution_count": 43,
   "metadata": {},
   "outputs": [
    {
     "name": "stdout",
     "output_type": "stream",
     "text": [
      "this is a <class 'pandas.core.frame.DataFrame'> with a shape: (60963, 2)\n"
     ]
    }
   ],
   "source": [
    "# Ingest the CSV file for fermentation fill and check array size\n",
    "ferm_fill = pd.read_csv('./WPE.CAPHIST.LI_3101-PV.csv')\n",
    "whatis(ferm_fill)"
   ]
  },
  {
   "cell_type": "code",
   "execution_count": 44,
   "metadata": {},
   "outputs": [
    {
     "data": {
      "text/plain": [
       "<matplotlib.axes._subplots.AxesSubplot at 0x7f2b0ed93b38>"
      ]
     },
     "execution_count": 44,
     "metadata": {},
     "output_type": "execute_result"
    },
    {
     "data": {
      "image/png": "[encoded data removed]",
      "text/plain": [
       "<Figure size 432x288 with 1 Axes>"
      ]
     },
     "metadata": {},
     "output_type": "display_data"
    }
   ],
   "source": [
    "ferm_fill.plot()"
   ]
  },
  {
   "cell_type": "code",
   "execution_count": 45,
   "metadata": {},
   "outputs": [],
   "source": [
    "yf = fft(ferm_fill['value'])"
   ]
  },
  {
   "cell_type": "code",
   "execution_count": 46,
   "metadata": {},
   "outputs": [
    {
     "data": {
      "application/vnd.jupyter.widget-view+json": {
       "model_id": "29fb9375e82947a48e9a97b45f3bdd4b",
       "version_major": 2,
       "version_minor": 0
      },
      "text/plain": [
       "interactive(children=(IntSlider(value=35000, description='a', max=70000, step=20), IntSlider(value=35000, desc…"
      ]
     },
     "metadata": {},
     "output_type": "display_data"
    }
   ],
   "source": [
    "xf = ferm_fill.index\n",
    "N = 60963\n",
    "# plt.plot(xf[0:300], np.abs(yf[0:300]))\n",
    "\n",
    "\n",
    "def f2(a, b): \n",
    "    # display(a + b)\n",
    "    plt.plot(xf[a:b], np.abs(yf[a:b]))\n",
    "    return(a + b)\n",
    "\n",
    "w = interactive(f2, a=(0, 70000, 20), b=(0, 70000, 20))\n",
    "display(w)"
   ]
  },
  {
   "cell_type": "code",
   "execution_count": 47,
   "metadata": {},
   "outputs": [
    {
     "name": "stdout",
     "output_type": "stream",
     "text": [
      "this is a <class 'pandas.core.indexes.range.RangeIndex'> with a shape: (60963,)\n"
     ]
    },
    {
     "data": {
      "text/plain": [
       "RangeIndex(start=0, stop=60963, step=1)"
      ]
     },
     "execution_count": 47,
     "metadata": {},
     "output_type": "execute_result"
    }
   ],
   "source": [
    "whatis(xf)\n",
    "xf[0:60965]"
   ]
  },
  {
   "cell_type": "code",
   "execution_count": 48,
   "metadata": {},
   "outputs": [
    {
     "data": {
      "application/vnd.jupyter.widget-view+json": {
       "model_id": "c0e7b396364e48e990e28706f3e98a0d",
       "version_major": 2,
       "version_minor": 0
      },
      "text/plain": [
       "interactive(children=(IntSlider(value=4, description='minimum', max=8, min=3), Output()), _dom_classes=('widge…"
      ]
     },
     "metadata": {},
     "output_type": "display_data"
    }
   ],
   "source": [
    "# interact(f, minimum=widgets.IntSlider(min=0,max=70000,step=100,value=55000));\n",
    "# the value for the full tuple is not int eh documentation, it is: (initial value, min, max, step)\n",
    "interact(f, minimum=widgets.IntSlider(4, 3, 8, 1));"
   ]
  },
  {
   "cell_type": "code",
   "execution_count": 49,
   "metadata": {},
   "outputs": [
    {
     "name": "stdout",
     "output_type": "stream",
     "text": [
      "[NbConvertApp] Converting notebook ipywidgets.ipynb to html\n",
      "[NbConvertApp] Writing 316672 bytes to ipywidgets.html\n"
     ]
    }
   ],
   "source": [
    "!{'jupyter nbconvert --to html ipywidgets.ipynb'}"
   ]
  },
  {
   "cell_type": "code",
   "execution_count": null,
   "metadata": {},
   "outputs": [],
   "source": []
  },
  {
   "cell_type": "code",
   "execution_count": null,
   "metadata": {},
   "outputs": [],
   "source": []
  }
 ],
 "metadata": {
  "kernelspec": {
   "display_name": "Environment (conda_python3)",
   "language": "python",
   "name": "conda_python3"
  },
  "language_info": {
   "codemirror_mode": {
    "name": "ipython",
    "version": 3
   },
   "file_extension": ".py",
   "mimetype": "text/x-python",
   "name": "python",
   "nbconvert_exporter": "python",
   "pygments_lexer": "ipython3",
   "version": "3.6.5"
  }
 },
 "nbformat": 4,
 "nbformat_minor": 2
}
